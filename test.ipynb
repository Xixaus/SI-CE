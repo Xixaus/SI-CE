{
 "cells": [
  {
   "cell_type": "code",
   "execution_count": 3,
   "id": "7cd6459d",
   "metadata": {},
   "outputs": [
    {
     "name": "stdout",
     "output_type": "stream",
     "text": [
      "Macro location: c:\\Users\\Admin\\Desktop\\SI-CE\\ChemstationAPI\\core\\ChemPyConnect.mac\n"
     ]
    }
   ],
   "source": [
    "import os\n",
    "import ChemstationAPI\n",
    "\n",
    "# Get the absolute path to the ChemstationAPI module\n",
    "api_path = os.path.dirname(ChemstationAPI.__file__)\n",
    "macro_path = os.path.join(api_path, \"core\", \"ChemPyConnect.mac\")\n",
    "print(f\"Macro location: {macro_path}\")"
   ]
  },
  {
   "cell_type": "code",
   "execution_count": 4,
   "id": "573656b8",
   "metadata": {},
   "outputs": [
    {
     "name": "stdout",
     "output_type": "stream",
     "text": [
      "The Zen of Python, by Tim Peters\n",
      "\n",
      "Beautiful is better than ugly.\n",
      "Explicit is better than implicit.\n",
      "Simple is better than complex.\n",
      "Complex is better than complicated.\n",
      "Flat is better than nested.\n",
      "Sparse is better than dense.\n",
      "Readability counts.\n",
      "Special cases aren't special enough to break the rules.\n",
      "Although practicality beats purity.\n",
      "Errors should never pass silently.\n",
      "Unless explicitly silenced.\n",
      "In the face of ambiguity, refuse the temptation to guess.\n",
      "There should be one-- and preferably only one --obvious way to do it.\n",
      "Although that way may not be obvious at first unless you're Dutch.\n",
      "Now is better than never.\n",
      "Although never is often better than *right* now.\n",
      "If the implementation is hard to explain, it's a bad idea.\n",
      "If the implementation is easy to explain, it may be a good idea.\n",
      "Namespaces are one honking great idea -- let's do more of those!\n"
     ]
    }
   ],
   "source": [
    "import this"
   ]
  }
 ],
 "metadata": {
  "kernelspec": {
   "display_name": "Python 3",
   "language": "python",
   "name": "python3"
  },
  "language_info": {
   "codemirror_mode": {
    "name": "ipython",
    "version": 3
   },
   "file_extension": ".py",
   "mimetype": "text/x-python",
   "name": "python",
   "nbconvert_exporter": "python",
   "pygments_lexer": "ipython3",
   "version": "3.7.9"
  }
 },
 "nbformat": 4,
 "nbformat_minor": 5
}
